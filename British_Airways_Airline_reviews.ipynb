{
  "cells": [
    {
      "cell_type": "markdown",
      "source": [
        "# Import Libraries"
      ],
      "metadata": {
        "id": "YfW9TNO62gfU"
      }
    },
    {
      "cell_type": "code",
      "execution_count": 1,
      "metadata": {
        "id": "jNyXnr1sv432"
      },
      "outputs": [],
      "source": [
        "import requests\n",
        "from bs4 import BeautifulSoup\n",
        "import csv\n",
        "import pandas as pd"
      ]
    },
    {
      "cell_type": "markdown",
      "source": [
        "# Define the needed variables"
      ],
      "metadata": {
        "id": "9NUXAlWa2-RO"
      }
    },
    {
      "cell_type": "code",
      "execution_count": 78,
      "metadata": {
        "id": "7sbcpIz9wNfn"
      },
      "outputs": [],
      "source": [
        "details ={\n",
        "    'Aircraft':[],\n",
        "    'Type Of Traveller':[],\n",
        "    'Seat Type':[],\n",
        "    'Route':[],\n",
        "    'Date Flown':[],\n",
        "    'Seat Comfort':[],\n",
        "    'Cabin Staff Service':[],\n",
        "    'Food & Beverages':[],\n",
        "    'Inflight Entertainment':[],\n",
        "    'Ground Service':[],\n",
        "    'Wifi & Connectivity':[],\n",
        "    'Value For Money':[],\n",
        "    'Recommended':[]\n",
        "}\n",
        "num=[]\n",
        "rating=[]\n",
        "features =[\"Missing\" ,\"Missing\" , \"Missing\", \"Missing\",\"Missing\" , \"Missing\"]"
      ]
    },
    {
      "cell_type": "markdown",
      "source": [
        "# Define the first page url to get the number of pages"
      ],
      "metadata": {
        "id": "-6c7OfSX3EDN"
      }
    },
    {
      "cell_type": "code",
      "execution_count": 2,
      "metadata": {
        "id": "t6Nf-khVwA8x"
      },
      "outputs": [],
      "source": [
        "url ='https://www.airlinequality.com/airline-reviews/british-airways/page/1/'"
      ]
    },
    {
      "cell_type": "code",
      "execution_count": 5,
      "metadata": {
        "id": "p-i7Qcv_wB05"
      },
      "outputs": [],
      "source": [
        "page = requests.get(url)"
      ]
    },
    {
      "cell_type": "code",
      "execution_count": 6,
      "metadata": {
        "id": "XpctNCRuwEia"
      },
      "outputs": [],
      "source": [
        "src= page.content"
      ]
    },
    {
      "cell_type": "code",
      "execution_count": 7,
      "metadata": {
        "id": "bM7uQDxxwMKz"
      },
      "outputs": [],
      "source": [
        "soup= BeautifulSoup(src , \"lxml\")"
      ]
    },
    {
      "cell_type": "code",
      "source": [
        "num_pages =soup.find_all(\"article\" , class_=\"comp comp_reviews-pagination querylist-pagination position-\")"
      ],
      "metadata": {
        "id": "CnVR87yPNpsy"
      },
      "execution_count": 10,
      "outputs": []
    },
    {
      "cell_type": "code",
      "source": [
        "pages =num_pages[0].find_all('a')[-2].text.strip()"
      ],
      "metadata": {
        "id": "eVAeh-fVWxZg"
      },
      "execution_count": 12,
      "outputs": []
    },
    {
      "cell_type": "code",
      "source": [
        "pages=int(pages)"
      ],
      "metadata": {
        "id": "6RzBzJIBaUsk"
      },
      "execution_count": 13,
      "outputs": []
    },
    {
      "cell_type": "code",
      "source": [
        "pages"
      ],
      "metadata": {
        "id": "vI0kbwDlbPJ1",
        "outputId": "84468ef5-8775-47a2-cb1e-ec23fdca65f3",
        "colab": {
          "base_uri": "https://localhost:8080/"
        }
      },
      "execution_count": 14,
      "outputs": [
        {
          "output_type": "execute_result",
          "data": {
            "text/plain": [
              "385"
            ]
          },
          "metadata": {},
          "execution_count": 14
        }
      ]
    },
    {
      "cell_type": "markdown",
      "source": [
        "# Get all links of review pages on the website"
      ],
      "metadata": {
        "id": "QDPGU6VY310o"
      }
    },
    {
      "cell_type": "code",
      "source": [
        "links =[]"
      ],
      "metadata": {
        "id": "0UrQO9aSbcfc"
      },
      "execution_count": 15,
      "outputs": []
    },
    {
      "cell_type": "code",
      "source": [
        "for i in range(1 , pages+1):\n",
        "  links.append(f\"https://www.airlinequality.com/airline-reviews/british-airways/page/{i}/\")"
      ],
      "metadata": {
        "id": "5tX6b6ZObmcx"
      },
      "execution_count": 16,
      "outputs": []
    },
    {
      "cell_type": "markdown",
      "source": [
        "# Function to split list on (1) to get the star rate reviews"
      ],
      "metadata": {
        "id": "gYbEc3pz4KID"
      }
    },
    {
      "cell_type": "code",
      "execution_count": 49,
      "metadata": {
        "id": "7K89xiOjxUyq"
      },
      "outputs": [],
      "source": [
        "def split_list_on_one(lst):\n",
        "    sublists = []\n",
        "    current_sublist = []\n",
        "\n",
        "    for item in lst:\n",
        "        if item == 1 and current_sublist:  # Check if item is 1 and current_sublist is not empty\n",
        "            sublists.append(current_sublist)\n",
        "            current_sublist = []\n",
        "        current_sublist.append(item)\n",
        "\n",
        "    if current_sublist:  # Add the last sublist if not empty\n",
        "        sublists.append(current_sublist)\n",
        "\n",
        "    return sublists"
      ]
    },
    {
      "cell_type": "markdown",
      "source": [
        "# Fill our dictionary with deviews"
      ],
      "metadata": {
        "id": "Zi0DV6Mv4kPN"
      }
    },
    {
      "cell_type": "code",
      "source": [
        "for link in links:\n",
        "\n",
        "  page = requests.get(link)\n",
        "  src= page.content\n",
        "  soup= BeautifulSoup(src , \"lxml\")\n",
        "  review = soup.find_all(\"div\" , class_ =\"body\")\n",
        "  for i in range(len(review)):\n",
        "\n",
        "    # Get the catigorical reviews\n",
        "\n",
        "    cate_reviews =review[i].find_all('td' , class_=\"review-value\")\n",
        "\n",
        "\n",
        "    if review[i].find_all('td' , class_=\"review-rating-header aircraft\"):\n",
        "      features[0] = cate_reviews[0].text.strip()\n",
        "    else:\n",
        "      cate_reviews.insert(0 , \"Missing\")\n",
        "\n",
        "    if review[i].find_all('td' , class_=\"review-rating-header type_of_traveller\"):\n",
        "      features[1] = cate_reviews[1].text.strip()\n",
        "    else:\n",
        "        cate_reviews.insert(1 , \"Missing\")\n",
        "\n",
        "\n",
        "    if review[i].find_all('td' , class_=\"review-rating-header cabin_flown\"):\n",
        "      features[2] = cate_reviews[2].text.strip()\n",
        "    else:\n",
        "        cate_reviews.insert(2 , \"Missing\")\n",
        "\n",
        "    if review[i].find_all('td' , class_=\"review-rating-header route\"):\n",
        "      features[3] = cate_reviews[-3].text.strip()\n",
        "    else:\n",
        "        cate_reviews.insert(3 , \"Missing\")\n",
        "\n",
        "\n",
        "    if review[i].find_all('td' , class_=\"review-rating-header date_flown\"):\n",
        "      features[4] = cate_reviews[-2].text.strip()\n",
        "    else:\n",
        "        cate_reviews.insert(-2 , \"Missing\")\n",
        "\n",
        "\n",
        "    if review[i].find_all('td' , class_=\"review-rating-header recommended\"):\n",
        "      features[5] = cate_reviews[-1].text.strip()\n",
        "    else:\n",
        "        cate_reviews.insert(-1 , \"Missing\")\n",
        "\n",
        "    details['Aircraft'].append(features[0])\n",
        "    details['Type Of Traveller'].append(features[1])\n",
        "    details['Seat Type'].append(features[2])\n",
        "    details['Route'].append(features[3])\n",
        "    details['Date Flown'].append(features[4])\n",
        "    details['Recommended'].append(features[5])\n",
        "\n",
        "\n",
        "    cate_reviews.clear()\n",
        "\n",
        "    # Get the numerical reviews\n",
        "    num_reviews = review[i].find_all('span' , class_= 'star fill')\n",
        "    for item in range(len(num_reviews)):\n",
        "       num.append(num_reviews[item].text.strip())\n",
        "\n",
        "    num=list(map(int,num))\n",
        "\n",
        "    num = split_list_on_one(num)\n",
        "\n",
        "    for rate in range(len(num)):\n",
        "      rating.append(num[rate][-1])\n",
        "\n",
        "    if not review[i].find_all('td' , class_=\"review-rating-header seat_comfort\"):\n",
        "      rating.insert(0 , 0)\n",
        "\n",
        "    if not review[i].find_all('td' , class_=\"review-rating-header cabin_staff_service\"):\n",
        "      rating.insert(1 , 0)\n",
        "\n",
        "    if not review[i].find_all('td' , class_=\"review-rating-header food_and_beverages\"):\n",
        "      rating.insert(2 , 0)\n",
        "\n",
        "    if not review[i].find_all('td' , class_=\"review-rating-header inflight_entertainment\"):\n",
        "      rating.insert(3, 0)\n",
        "\n",
        "    if not review[i].find_all('td' , class_=\"review-rating-header ground_service\"):\n",
        "      rating.insert(4 , 0)\n",
        "\n",
        "    if not review[i].find_all('td' , class_=\"review-rating-header wifi_and_connectivity\"):\n",
        "      rating.insert(5 , 0)\n",
        "\n",
        "    if not review[i].find_all('td' , class_=\"review-rating-header value_for_money\"):\n",
        "      rating.insert(6 , 0)\n",
        "\n",
        "    details['Seat Comfort'].append(rating[0])\n",
        "    details['Cabin Staff Service'].append(rating[1])\n",
        "    details['Food & Beverages'].append(rating[2])\n",
        "    details['Inflight Entertainment'].append(rating[3])\n",
        "    details['Ground Service'].append(rating[4])\n",
        "    details['Wifi & Connectivity'].append(rating[5])\n",
        "    details['Value For Money'].append(rating[-1])\n",
        "\n",
        "\n",
        "    rating.clear()\n",
        "    num.clear()"
      ],
      "metadata": {
        "id": "R8Fvixvab8Zc"
      },
      "execution_count": 80,
      "outputs": []
    },
    {
      "cell_type": "markdown",
      "source": [
        "# Saving the output in csv file"
      ],
      "metadata": {
        "id": "ZO_Dyoqe5pl_"
      }
    },
    {
      "cell_type": "code",
      "source": [
        "df = pd.DataFrame(details)"
      ],
      "metadata": {
        "id": "7kMSbGtl0ieK"
      },
      "execution_count": 85,
      "outputs": []
    },
    {
      "cell_type": "code",
      "source": [
        "df.to_csv(\"reviews.csv\", index=True)"
      ],
      "metadata": {
        "id": "FZUUPpEd00TH"
      },
      "execution_count": 86,
      "outputs": []
    }
  ],
  "metadata": {
    "colab": {
      "provenance": []
    },
    "kernelspec": {
      "display_name": "Python 3",
      "name": "python3"
    },
    "language_info": {
      "name": "python"
    }
  },
  "nbformat": 4,
  "nbformat_minor": 0
}